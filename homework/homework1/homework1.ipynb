{
 "cells": [
  {
   "cell_type": "code",
   "execution_count": null,
   "id": "93f75d53-d98e-49b1-9abe-d8da343b09cb",
   "metadata": {},
   "outputs": [],
   "source": [
    "#This is for my data analysis and modeling\n",
    "print(\"HW1 — NYC Subway Delay Forecasting\")"
   ]
  },
  {
   "cell_type": "code",
   "execution_count": null,
   "id": "ddcb2e89-8fe1-4d9e-ac86-c05d868fd423",
   "metadata": {},
   "outputs": [],
   "source": []
  }
 ],
 "metadata": {
  "kernelspec": {
   "display_name": "Python 3 (ipykernel)",
   "language": "python",
   "name": "python3"
  },
  "language_info": {
   "codemirror_mode": {
    "name": "ipython",
    "version": 3
   },
   "file_extension": ".py",
   "mimetype": "text/x-python",
   "name": "python",
   "nbconvert_exporter": "python",
   "pygments_lexer": "ipython3",
   "version": "3.13.5"
  }
 },
 "nbformat": 4,
 "nbformat_minor": 5
}
