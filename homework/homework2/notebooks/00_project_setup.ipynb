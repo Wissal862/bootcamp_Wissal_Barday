{
 "cells": [
  {
   "cell_type": "code",
   "execution_count": 1,
   "id": "7dff17e3-a212-49c6-9ae8-3997f9a0f251",
   "metadata": {},
   "outputs": [
    {
     "name": "stdout",
     "output_type": "stream",
     "text": [
      "API_KEY: dummy_key_123\n",
      "DATA_DIR: ./data\n",
      "Array: [1 2 3]\n",
      "Sum: 6\n"
     ]
    }
   ],
   "source": [
    "#Environment & Config Check\n",
    "\n",
    "from dotenv import load_dotenv\n",
    "import os\n",
    "import numpy as np\n",
    "\n",
    "# .env lives one folder up from notebooks/\n",
    "load_dotenv(\"../.env\")\n",
    "\n",
    "print(\"API_KEY:\", os.getenv(\"API_KEY\"))     # should print dummy_key_123\n",
    "print(\"DATA_DIR:\", os.getenv(\"DATA_DIR\"))   # should print ./data\n",
    "\n",
    "arr = np.array([1, 2, 3])\n",
    "print(\"Array:\", arr)\n",
    "print(\"Sum:\", arr.sum())"
   ]
  }
 ],
 "metadata": {
  "kernelspec": {
   "display_name": "fe-course",
   "language": "python",
   "name": "python3"
  },
  "language_info": {
   "codemirror_mode": {
    "name": "ipython",
    "version": 3
   },
   "file_extension": ".py",
   "mimetype": "text/x-python",
   "name": "python",
   "nbconvert_exporter": "python",
   "pygments_lexer": "ipython3",
   "version": "3.13.5"
  }
 },
 "nbformat": 4,
 "nbformat_minor": 5
}
