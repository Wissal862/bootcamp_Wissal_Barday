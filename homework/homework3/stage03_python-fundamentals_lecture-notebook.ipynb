{
 "cells": [
  {
   "cell_type": "markdown",
   "id": "9dc56ece",
   "metadata": {},
   "source": [
    "# Stage 03: Python Fundamentals\n",
    "\n",
    "**Date:** Aug 14 (Thursday) (C)\n",
    "\n",
    "In this notebook, we explore core Python data structures, NumPy, pandas, and reusable functions."
   ]
  },
  {
   "cell_type": "code",
   "execution_count": null,
   "id": "eaa9b5d6",
   "metadata": {},
   "outputs": [],
   "source": [
    "import numpy as np\n",
    "import pandas as pd\n",
    "import matplotlib.pyplot as plt\n",
    "from datetime import datetime"
   ]
  },
  {
   "cell_type": "markdown",
   "id": "ce2b1950",
   "metadata": {},
   "source": [
    "## Warm-Up: Function and Decorator"
   ]
  },
  {
   "cell_type": "code",
   "execution_count": null,
   "id": "5a7ad15a",
   "metadata": {},
   "outputs": [],
   "source": [
    "def calc_mean_std(lst):\n",
    "    arr = np.array(lst)\n",
    "    return arr.mean(), arr.std()\n",
    "\n",
    "def log_call(func):\n",
    "    def wrapper(*args, **kwargs):\n",
    "        print(f\"Function {func.__name__} called at {datetime.now()}\")\n",
    "        return func(*args, **kwargs)\n",
    "    return wrapper\n",
    "\n",
    "@log_call\n",
    "def calc_mean_std_logged(lst):\n",
    "    return calc_mean_std(lst)\n",
    "\n",
    "calc_mean_std_logged([1, 2, 3, 4, 5])"
   ]
  },
  {
   "cell_type": "markdown",
   "id": "ffb4dbc0",
   "metadata": {},
   "source": [
    "## Data Structures Comparison"
   ]
  },
  {
   "cell_type": "code",
   "execution_count": null,
   "id": "d3f360df",
   "metadata": {},
   "outputs": [],
   "source": [
    "lst = [1, 2, 3]\n",
    "arr = np.array(lst)\n",
    "ser = pd.Series(lst)\n",
    "df = pd.DataFrame({'col1': lst, 'col2': [4,5,6]})\n",
    "\n",
    "print(type(lst), type(arr), type(ser), type(df))"
   ]
  },
  {
   "cell_type": "markdown",
   "id": "69887bd3",
   "metadata": {},
   "source": [
    "## Vectorization vs Loops"
   ]
  },
  {
   "cell_type": "code",
   "execution_count": null,
   "id": "2afdac72",
   "metadata": {},
   "outputs": [],
   "source": [
    "big_array = np.arange(1_000_000)\n",
    "\n",
    "%timeit [x * 2 for x in big_array]\n",
    "%timeit big_array * 2"
   ]
  },
  {
   "cell_type": "markdown",
   "id": "a94420b0",
   "metadata": {},
   "source": [
    "## Pandas Basics"
   ]
  },
  {
   "cell_type": "code",
   "execution_count": null,
   "id": "faa2932e",
   "metadata": {},
   "outputs": [],
   "source": [
    "df = pd.read_csv('data/starter_data.csv')\n",
    "df.head(), df.info(), df.describe()"
   ]
  },
  {
   "cell_type": "markdown",
   "id": "e72d305b",
   "metadata": {},
   "source": [
    "## Groupby & Aggregation"
   ]
  },
  {
   "cell_type": "code",
   "execution_count": null,
   "id": "c1b40bc4",
   "metadata": {},
   "outputs": [],
   "source": [
    "summary = df.groupby('category').mean(numeric_only=True).reset_index()\n",
    "summary.to_csv('data/processed/summary.csv', index=False)\n",
    "summary"
   ]
  },
  {
   "cell_type": "markdown",
   "id": "1369cd1a",
   "metadata": {},
   "source": [
    "## Plotting"
   ]
  },
  {
   "cell_type": "code",
   "execution_count": null,
   "id": "0960d093",
   "metadata": {},
   "outputs": [],
   "source": [
    "df['value'].hist()\n",
    "plt.savefig('data/processed/histogram.png')"
   ]
  }
 ],
 "metadata": {
  "kernelspec": {
   "display_name": "bootcamp_env",
   "language": "python",
   "name": "python3"
  },
  "language_info": {
   "codemirror_mode": {
    "name": "ipython",
    "version": 3
   },
   "file_extension": ".py",
   "mimetype": "text/x-python",
   "name": "python",
   "nbconvert_exporter": "python",
   "pygments_lexer": "ipython3",
   "version": "3.13.5"
  }
 },
 "nbformat": 4,
 "nbformat_minor": 5
}
