{
 "cells": [
  {
   "cell_type": "markdown",
   "id": "12bef6df",
   "metadata": {},
   "source": [
    "\n",
    "# Stage 09 — Feature Engineering (NYC Subway Delays)\n",
    "\n",
    "The following notebook implements 3 features that will help us understand teh delay patterns of NYC subway lines.\n",
    "\n",
    "Features created:\n",
    "1. `is_weekend` — weekday vs weekend flag  \n",
    "2. `delay_rate_line` — line-level average delays normalized against system-wide average  \n",
    "3. `category_flag_infra` — indicator for Infrastructure & Equipment category\n"
   ]
  },
  {
   "cell_type": "markdown",
   "id": "d5c25bbf",
   "metadata": {},
   "source": [
    "## Load Data"
   ]
  },
  {
   "cell_type": "code",
   "execution_count": 16,
   "id": "961bc23a",
   "metadata": {},
   "outputs": [
    {
     "name": "stdout",
     "output_type": "stream",
     "text": [
      "Shape: (40503, 7)\n"
     ]
    },
    {
     "data": {
      "text/html": [
       "<div>\n",
       "<style scoped>\n",
       "    .dataframe tbody tr th:only-of-type {\n",
       "        vertical-align: middle;\n",
       "    }\n",
       "\n",
       "    .dataframe tbody tr th {\n",
       "        vertical-align: top;\n",
       "    }\n",
       "\n",
       "    .dataframe thead th {\n",
       "        text-align: right;\n",
       "    }\n",
       "</style>\n",
       "<table border=\"1\" class=\"dataframe\">\n",
       "  <thead>\n",
       "    <tr style=\"text-align: right;\">\n",
       "      <th></th>\n",
       "      <th>month</th>\n",
       "      <th>division</th>\n",
       "      <th>line</th>\n",
       "      <th>day_type</th>\n",
       "      <th>reporting_category</th>\n",
       "      <th>subcategory</th>\n",
       "      <th>delays</th>\n",
       "    </tr>\n",
       "  </thead>\n",
       "  <tbody>\n",
       "    <tr>\n",
       "      <th>0</th>\n",
       "      <td>2024-12-01</td>\n",
       "      <td>A DIVISION</td>\n",
       "      <td>1</td>\n",
       "      <td>1</td>\n",
       "      <td>Crew Availability</td>\n",
       "      <td>Crew Availability</td>\n",
       "      <td>83</td>\n",
       "    </tr>\n",
       "    <tr>\n",
       "      <th>1</th>\n",
       "      <td>2024-12-01</td>\n",
       "      <td>A DIVISION</td>\n",
       "      <td>1</td>\n",
       "      <td>1</td>\n",
       "      <td>External Factors</td>\n",
       "      <td>External Debris on Roadbed</td>\n",
       "      <td>4</td>\n",
       "    </tr>\n",
       "    <tr>\n",
       "      <th>2</th>\n",
       "      <td>2024-12-01</td>\n",
       "      <td>A DIVISION</td>\n",
       "      <td>1</td>\n",
       "      <td>1</td>\n",
       "      <td>Infrastructure &amp; Equipment</td>\n",
       "      <td>Braking</td>\n",
       "      <td>37</td>\n",
       "    </tr>\n",
       "    <tr>\n",
       "      <th>3</th>\n",
       "      <td>2024-12-01</td>\n",
       "      <td>A DIVISION</td>\n",
       "      <td>1</td>\n",
       "      <td>1</td>\n",
       "      <td>Infrastructure &amp; Equipment</td>\n",
       "      <td>Door-Related</td>\n",
       "      <td>34</td>\n",
       "    </tr>\n",
       "    <tr>\n",
       "      <th>4</th>\n",
       "      <td>2024-12-01</td>\n",
       "      <td>A DIVISION</td>\n",
       "      <td>1</td>\n",
       "      <td>1</td>\n",
       "      <td>Infrastructure &amp; Equipment</td>\n",
       "      <td>Fire, Smoke, Debris</td>\n",
       "      <td>37</td>\n",
       "    </tr>\n",
       "  </tbody>\n",
       "</table>\n",
       "</div>"
      ],
      "text/plain": [
       "        month    division line  day_type          reporting_category  \\\n",
       "0  2024-12-01  A DIVISION    1         1           Crew Availability   \n",
       "1  2024-12-01  A DIVISION    1         1            External Factors   \n",
       "2  2024-12-01  A DIVISION    1         1  Infrastructure & Equipment   \n",
       "3  2024-12-01  A DIVISION    1         1  Infrastructure & Equipment   \n",
       "4  2024-12-01  A DIVISION    1         1  Infrastructure & Equipment   \n",
       "\n",
       "                  subcategory  delays  \n",
       "0           Crew Availability      83  \n",
       "1  External Debris on Roadbed       4  \n",
       "2                     Braking      37  \n",
       "3                Door-Related      34  \n",
       "4         Fire, Smoke, Debris      37  "
      ]
     },
     "execution_count": 16,
     "metadata": {},
     "output_type": "execute_result"
    }
   ],
   "source": [
    "\n",
    "import pandas as pd\n",
    "import matplotlib.pyplot as plt\n",
    "\n",
    "# Load dataset\n",
    "df = pd.read_csv(\"data/raw/mta_trains_delayed.csv\")\n",
    "print(\"Shape:\", df.shape)\n",
    "df.head()\n"
   ]
  },
  {
   "cell_type": "markdown",
   "id": "c82620a4",
   "metadata": {},
   "source": [
    "\n",
    "## Feature 1: is_weekend\n",
    "*Reasoning  \n",
    "The subway runs on different schedules during weekends and holidays, often with track maintenance and fewer trains. This will often lead to more frequent and longer delays. As such, the following feature will help us distinguish delays on weekdays as compared to delays on weekends, this way we ca speraete the commuter rush hours patterns from the maintenance weekend patterns.\n",
    "\n",
    "I used a simple binary logic for this part with 0 referring to weekdays and 1 referring to weekend/holiday\n",
    "\n",
    " `day_type = 1` → Weekday  \n",
    " `day_type = 2` → Weekend/Holiday  \n"
   ]
  },
  {
   "cell_type": "code",
   "execution_count": 17,
   "id": "c72d3f5a",
   "metadata": {},
   "outputs": [
    {
     "data": {
      "text/html": [
       "<div>\n",
       "<style scoped>\n",
       "    .dataframe tbody tr th:only-of-type {\n",
       "        vertical-align: middle;\n",
       "    }\n",
       "\n",
       "    .dataframe tbody tr th {\n",
       "        vertical-align: top;\n",
       "    }\n",
       "\n",
       "    .dataframe thead th {\n",
       "        text-align: right;\n",
       "    }\n",
       "</style>\n",
       "<table border=\"1\" class=\"dataframe\">\n",
       "  <thead>\n",
       "    <tr style=\"text-align: right;\">\n",
       "      <th></th>\n",
       "      <th>day_type</th>\n",
       "      <th>is_weekend</th>\n",
       "    </tr>\n",
       "  </thead>\n",
       "  <tbody>\n",
       "    <tr>\n",
       "      <th>0</th>\n",
       "      <td>1</td>\n",
       "      <td>0</td>\n",
       "    </tr>\n",
       "    <tr>\n",
       "      <th>1</th>\n",
       "      <td>1</td>\n",
       "      <td>0</td>\n",
       "    </tr>\n",
       "    <tr>\n",
       "      <th>2</th>\n",
       "      <td>1</td>\n",
       "      <td>0</td>\n",
       "    </tr>\n",
       "    <tr>\n",
       "      <th>3</th>\n",
       "      <td>1</td>\n",
       "      <td>0</td>\n",
       "    </tr>\n",
       "    <tr>\n",
       "      <th>4</th>\n",
       "      <td>1</td>\n",
       "      <td>0</td>\n",
       "    </tr>\n",
       "  </tbody>\n",
       "</table>\n",
       "</div>"
      ],
      "text/plain": [
       "   day_type  is_weekend\n",
       "0         1           0\n",
       "1         1           0\n",
       "2         1           0\n",
       "3         1           0\n",
       "4         1           0"
      ]
     },
     "execution_count": 17,
     "metadata": {},
     "output_type": "execute_result"
    }
   ],
   "source": [
    "\n",
    "df['is_weekend'] = (df['day_type'] == 2).astype(int)\n",
    "df[['day_type','is_weekend']].head()\n"
   ]
  },
  {
   "cell_type": "code",
   "execution_count": 18,
   "id": "9a0ad4d5",
   "metadata": {},
   "outputs": [
    {
     "data": {
      "image/png": "[encoded data removed]",
      "text/plain": [
       "<Figure size 640x480 with 1 Axes>"
      ]
     },
     "metadata": {},
     "output_type": "display_data"
    }
   ],
   "source": [
    "\n",
    "weekend_means = df.groupby('is_weekend')['delays'].mean()\n",
    "weekend_means.plot(kind='bar', color=['steelblue','orange'])\n",
    "plt.title(\"Average Delays: Weekday vs Weekend\")\n",
    "plt.xticks([0,1], ['Weekday','Weekend'], rotation=0)\n",
    "plt.ylabel(\"Average delays\")\n",
    "plt.show()\n"
   ]
  },
  {
   "cell_type": "markdown",
   "id": "08416545",
   "metadata": {},
   "source": [
    "We notice that the average delays are much higher on weekdays compared to weekends. This is consistent with our assumptions since more trains run during the week so more chances of delays. On weekends, fewer trains reduce the number of delay events, though this doesn’t always mean smoother service since scheduled maintenance and longer wait times can still happen and impact riders"
   ]
  },
  {
   "cell_type": "markdown",
   "id": "fe3044ea",
   "metadata": {},
   "source": [
    "\n",
    "## Feature 2 delay_rate_line\n",
    "Reasoning:  \n",
    "Some subway lines are more reliable than others and raw delay counts aren’t directly comparable because some lines carry more trains than others\n",
    "\n",
    " To compare lines fairly, we normalize each line’s average delays against the overall system average.This way we can get a relative reliability scores that will helpful for commuters to use.\n",
    "\n",
    "- `delay_rate_line = avg delays for line / avg delays for all lines`\n"
   ]
  },
  {
   "cell_type": "code",
   "execution_count": 19,
   "id": "aed87a3b",
   "metadata": {},
   "outputs": [
    {
     "data": {
      "text/html": [
       "<div>\n",
       "<style scoped>\n",
       "    .dataframe tbody tr th:only-of-type {\n",
       "        vertical-align: middle;\n",
       "    }\n",
       "\n",
       "    .dataframe tbody tr th {\n",
       "        vertical-align: top;\n",
       "    }\n",
       "\n",
       "    .dataframe thead th {\n",
       "        text-align: right;\n",
       "    }\n",
       "</style>\n",
       "<table border=\"1\" class=\"dataframe\">\n",
       "  <thead>\n",
       "    <tr style=\"text-align: right;\">\n",
       "      <th></th>\n",
       "      <th>line</th>\n",
       "      <th>delays</th>\n",
       "      <th>delay_rate_line</th>\n",
       "    </tr>\n",
       "  </thead>\n",
       "  <tbody>\n",
       "    <tr>\n",
       "      <th>0</th>\n",
       "      <td>1</td>\n",
       "      <td>83</td>\n",
       "      <td>1.025534</td>\n",
       "    </tr>\n",
       "    <tr>\n",
       "      <th>1</th>\n",
       "      <td>1</td>\n",
       "      <td>4</td>\n",
       "      <td>1.025534</td>\n",
       "    </tr>\n",
       "    <tr>\n",
       "      <th>2</th>\n",
       "      <td>1</td>\n",
       "      <td>37</td>\n",
       "      <td>1.025534</td>\n",
       "    </tr>\n",
       "    <tr>\n",
       "      <th>3</th>\n",
       "      <td>1</td>\n",
       "      <td>34</td>\n",
       "      <td>1.025534</td>\n",
       "    </tr>\n",
       "    <tr>\n",
       "      <th>4</th>\n",
       "      <td>1</td>\n",
       "      <td>37</td>\n",
       "      <td>1.025534</td>\n",
       "    </tr>\n",
       "  </tbody>\n",
       "</table>\n",
       "</div>"
      ],
      "text/plain": [
       "  line  delays  delay_rate_line\n",
       "0    1      83         1.025534\n",
       "1    1       4         1.025534\n",
       "2    1      37         1.025534\n",
       "3    1      34         1.025534\n",
       "4    1      37         1.025534"
      ]
     },
     "execution_count": 19,
     "metadata": {},
     "output_type": "execute_result"
    }
   ],
   "source": [
    "\n",
    "line_avg = df.groupby('line')['delays'].mean()\n",
    "overall_avg = df['delays'].mean()\n",
    "df['delay_rate_line'] = df['line'].map(line_avg) / overall_avg\n",
    "df[['line','delays','delay_rate_line']].head()\n"
   ]
  },
  {
   "cell_type": "code",
   "execution_count": 20,
   "id": "7dce38b7",
   "metadata": {},
   "outputs": [
    {
     "data": {
      "image/png": "[encoded data removed]",
      "text/plain": [
       "<Figure size 1000x400 with 1 Axes>"
      ]
     },
     "metadata": {},
     "output_type": "display_data"
    }
   ],
   "source": [
    "\n",
    "line_means = df.groupby('line')['delays'].mean().sort_values()\n",
    "plt.figure(figsize=(10,4))\n",
    "line_means.plot(kind='bar')\n",
    "plt.title(\"Average Delays per Subway Line\")\n",
    "plt.ylabel(\"Average number of delays\")\n",
    "plt.show()\n"
   ]
  },
  {
   "cell_type": "markdown",
   "id": "a66da5c3",
   "metadata": {},
   "source": [
    "The chart shows that some lines face way more delays than others. Lines like N, 6, and A are at the top with the most delays, while small shuttles like S Franklin and S Rockaway barely have any.This suggests that heavily used, longer routes tend to face more reliability issues, while short shuttle services stay more consistent."
   ]
  },
  {
   "cell_type": "markdown",
   "id": "e6a37073",
   "metadata": {},
   "source": [
    "\n",
    "## Feature 3 category_flag_infra\n",
    "Reasoning:  \n",
    "Infrastructure & Equipment problems (signals, tracks, trains) are a major cause of delays. This feature helps us understand how impactful these are on the delay of Subway lines. \n",
    "Similar to feature 1, I followed a binary logic.\n",
    "\n",
    "- `category_flag_infra = 1` if reporting_category = *Infrastructure & Equipment*, else 0\n"
   ]
  },
  {
   "cell_type": "code",
   "execution_count": 21,
   "id": "50ea9ecd",
   "metadata": {},
   "outputs": [
    {
     "data": {
      "text/html": [
       "<div>\n",
       "<style scoped>\n",
       "    .dataframe tbody tr th:only-of-type {\n",
       "        vertical-align: middle;\n",
       "    }\n",
       "\n",
       "    .dataframe tbody tr th {\n",
       "        vertical-align: top;\n",
       "    }\n",
       "\n",
       "    .dataframe thead th {\n",
       "        text-align: right;\n",
       "    }\n",
       "</style>\n",
       "<table border=\"1\" class=\"dataframe\">\n",
       "  <thead>\n",
       "    <tr style=\"text-align: right;\">\n",
       "      <th></th>\n",
       "      <th>reporting_category</th>\n",
       "      <th>category_flag_infra</th>\n",
       "    </tr>\n",
       "  </thead>\n",
       "  <tbody>\n",
       "    <tr>\n",
       "      <th>0</th>\n",
       "      <td>Crew Availability</td>\n",
       "      <td>0</td>\n",
       "    </tr>\n",
       "    <tr>\n",
       "      <th>1</th>\n",
       "      <td>External Factors</td>\n",
       "      <td>0</td>\n",
       "    </tr>\n",
       "    <tr>\n",
       "      <th>2</th>\n",
       "      <td>Infrastructure &amp; Equipment</td>\n",
       "      <td>1</td>\n",
       "    </tr>\n",
       "    <tr>\n",
       "      <th>3</th>\n",
       "      <td>Infrastructure &amp; Equipment</td>\n",
       "      <td>1</td>\n",
       "    </tr>\n",
       "    <tr>\n",
       "      <th>4</th>\n",
       "      <td>Infrastructure &amp; Equipment</td>\n",
       "      <td>1</td>\n",
       "    </tr>\n",
       "  </tbody>\n",
       "</table>\n",
       "</div>"
      ],
      "text/plain": [
       "           reporting_category  category_flag_infra\n",
       "0           Crew Availability                    0\n",
       "1            External Factors                    0\n",
       "2  Infrastructure & Equipment                    1\n",
       "3  Infrastructure & Equipment                    1\n",
       "4  Infrastructure & Equipment                    1"
      ]
     },
     "execution_count": 21,
     "metadata": {},
     "output_type": "execute_result"
    }
   ],
   "source": [
    "\n",
    "df['category_flag_infra'] = (df['reporting_category'] == \"Infrastructure & Equipment\").astype(int)\n",
    "df[['reporting_category','category_flag_infra']].head()\n"
   ]
  },
  {
   "cell_type": "markdown",
   "id": "22c54056",
   "metadata": {},
   "source": [
    "## Save Processed Data"
   ]
  },
  {
   "cell_type": "code",
   "execution_count": 22,
   "id": "9c74650f",
   "metadata": {},
   "outputs": [
    {
     "name": "stdout",
     "output_type": "stream",
     "text": [
      "Processed files saved:\n",
      "- data/processed/delays_processed.csv\n",
      "- data/processed/delays_features.parquet\n"
     ]
    },
    {
     "data": {
      "text/html": [
       "<div>\n",
       "<style scoped>\n",
       "    .dataframe tbody tr th:only-of-type {\n",
       "        vertical-align: middle;\n",
       "    }\n",
       "\n",
       "    .dataframe tbody tr th {\n",
       "        vertical-align: top;\n",
       "    }\n",
       "\n",
       "    .dataframe thead th {\n",
       "        text-align: right;\n",
       "    }\n",
       "</style>\n",
       "<table border=\"1\" class=\"dataframe\">\n",
       "  <thead>\n",
       "    <tr style=\"text-align: right;\">\n",
       "      <th></th>\n",
       "      <th>month</th>\n",
       "      <th>division</th>\n",
       "      <th>line</th>\n",
       "      <th>delays</th>\n",
       "      <th>is_weekend</th>\n",
       "      <th>delay_rate_line</th>\n",
       "      <th>category_flag_infra</th>\n",
       "    </tr>\n",
       "  </thead>\n",
       "  <tbody>\n",
       "    <tr>\n",
       "      <th>0</th>\n",
       "      <td>2024-12-01</td>\n",
       "      <td>A DIVISION</td>\n",
       "      <td>1</td>\n",
       "      <td>83</td>\n",
       "      <td>0</td>\n",
       "      <td>1.025534</td>\n",
       "      <td>0</td>\n",
       "    </tr>\n",
       "    <tr>\n",
       "      <th>1</th>\n",
       "      <td>2024-12-01</td>\n",
       "      <td>A DIVISION</td>\n",
       "      <td>1</td>\n",
       "      <td>4</td>\n",
       "      <td>0</td>\n",
       "      <td>1.025534</td>\n",
       "      <td>0</td>\n",
       "    </tr>\n",
       "    <tr>\n",
       "      <th>2</th>\n",
       "      <td>2024-12-01</td>\n",
       "      <td>A DIVISION</td>\n",
       "      <td>1</td>\n",
       "      <td>37</td>\n",
       "      <td>0</td>\n",
       "      <td>1.025534</td>\n",
       "      <td>1</td>\n",
       "    </tr>\n",
       "    <tr>\n",
       "      <th>3</th>\n",
       "      <td>2024-12-01</td>\n",
       "      <td>A DIVISION</td>\n",
       "      <td>1</td>\n",
       "      <td>34</td>\n",
       "      <td>0</td>\n",
       "      <td>1.025534</td>\n",
       "      <td>1</td>\n",
       "    </tr>\n",
       "    <tr>\n",
       "      <th>4</th>\n",
       "      <td>2024-12-01</td>\n",
       "      <td>A DIVISION</td>\n",
       "      <td>1</td>\n",
       "      <td>37</td>\n",
       "      <td>0</td>\n",
       "      <td>1.025534</td>\n",
       "      <td>1</td>\n",
       "    </tr>\n",
       "  </tbody>\n",
       "</table>\n",
       "</div>"
      ],
      "text/plain": [
       "        month    division line  delays  is_weekend  delay_rate_line  \\\n",
       "0  2024-12-01  A DIVISION    1      83           0         1.025534   \n",
       "1  2024-12-01  A DIVISION    1       4           0         1.025534   \n",
       "2  2024-12-01  A DIVISION    1      37           0         1.025534   \n",
       "3  2024-12-01  A DIVISION    1      34           0         1.025534   \n",
       "4  2024-12-01  A DIVISION    1      37           0         1.025534   \n",
       "\n",
       "   category_flag_infra  \n",
       "0                    0  \n",
       "1                    0  \n",
       "2                    1  \n",
       "3                    1  \n",
       "4                    1  "
      ]
     },
     "execution_count": 22,
     "metadata": {},
     "output_type": "execute_result"
    }
   ],
   "source": [
    "\n",
    "df_proc = df[['month','division','line','delays','is_weekend','delay_rate_line','category_flag_infra']]\n",
    "df_proc.to_csv(\"data/processed/delays_processed.csv\", index=False)\n",
    "df_proc.to_parquet(\"data/processed/delays_features.parquet\", index=False)\n",
    "print(\"Processed files saved:\")\n",
    "print(\"- data/processed/delays_processed.csv\")\n",
    "print(\"- data/processed/delays_features.parquet\")\n",
    "df_proc.head()\n"
   ]
  },
  {
   "cell_type": "markdown",
   "id": "2cb952ef",
   "metadata": {},
   "source": [
    "Correlation: Understanding how all features work together"
   ]
  },
  {
   "cell_type": "code",
   "execution_count": 23,
   "id": "3e4ac95e",
   "metadata": {},
   "outputs": [
    {
     "data": {
      "image/png": "[encoded data removed]",
      "text/plain": [
       "<Figure size 640x480 with 2 Axes>"
      ]
     },
     "metadata": {},
     "output_type": "display_data"
    }
   ],
   "source": [
    "import seaborn as sns\n",
    "import matplotlib.pyplot as plt\n",
    "\n",
    "# Select numeric engineered features\n",
    "feat_cols = ['delays','is_weekend','delay_rate_line','category_flag_infra']\n",
    "sns.heatmap(df[feat_cols].corr(), annot=True, cmap=\"Blues\")\n",
    "plt.title(\"Correlation between Features\")\n",
    "plt.show()"
   ]
  },
  {
   "cell_type": "markdown",
   "id": "fe49251f",
   "metadata": {},
   "source": [
    "This shows that weekday vs weekend has a noticeable effect on delays, since delays are higher during the week. The line-level score also connects to delays, meaning some lines consistently perform worse compared to the sysem average Infrastructure problems appear less tied to the biggest spikes, which suggests other causes also matter. Since the features are not strongly correlated with each other, they each capture a different side of the problem."
   ]
  }
 ],
 "metadata": {
  "kernelspec": {
   "display_name": "bootcamp_env",
   "language": "python",
   "name": "python3"
  },
  "language_info": {
   "codemirror_mode": {
    "name": "ipython",
    "version": 3
   },
   "file_extension": ".py",
   "mimetype": "text/x-python",
   "name": "python",
   "nbconvert_exporter": "python",
   "pygments_lexer": "ipython3",
   "version": "3.13.5"
  }
 },
 "nbformat": 4,
 "nbformat_minor": 5
}
